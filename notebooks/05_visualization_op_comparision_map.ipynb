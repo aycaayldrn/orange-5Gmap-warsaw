{
 "cells": [
  {
   "cell_type": "code",
   "execution_count": 30,
   "id": "a1fdedf1-1e27-4d03-84ab-3cb310424231",
   "metadata": {},
   "outputs": [],
   "source": [
    "import folium\n",
    "from folium.plugins import HeatMap\n",
    "import geopandas as gpd\n",
    "%store -r warsaw_tiles"
   ]
  },
  {
   "cell_type": "code",
   "execution_count": 32,
   "id": "ba78ac23-fc22-4886-a8ff-bf7c5c7333d6",
   "metadata": {},
   "outputs": [],
   "source": [
    "operators_5g_coverage_warsaw = gpd.read_file('../outputs/operators_5g_coverage_warsaw.geojson')"
   ]
  },
  {
   "cell_type": "code",
   "execution_count": 47,
   "id": "4cae9d35-6124-40fe-a4f3-0cce877e1add",
   "metadata": {},
   "outputs": [],
   "source": [
    "orange_5g_coverage_warsaw = gpd.read_file('../outputs/orange_5g_coverage_warsaw.geojson')"
   ]
  },
  {
   "cell_type": "code",
   "execution_count": 37,
   "id": "29804c80-ba98-4701-9fe4-beb56bbc9baf",
   "metadata": {},
   "outputs": [],
   "source": [
    "play_5g_coverage_warsaw = operators_5g_coverage_warsaw[operators_5g_coverage_warsaw['operator'] == 'Play']\n",
    "play_5g_coverage_warsaw.to_file('../outputs/play_5g_coverage_warsaw.geojson', driver='GeoJSON')"
   ]
  },
  {
   "cell_type": "code",
   "execution_count": 39,
   "id": "41481662-bc9c-44aa-8c78-59e21c7d6fc6",
   "metadata": {},
   "outputs": [],
   "source": [
    "plus_5g_coverage_warsaw = operators_5g_coverage_warsaw[operators_5g_coverage_warsaw['operator'] == 'Plus']\n",
    "plus_5g_coverage_warsaw.to_file('../outputs/plus_5g_coverage_warsaw.geojson', driver='GeoJSON')"
   ]
  },
  {
   "cell_type": "code",
   "execution_count": 41,
   "id": "aaa71611-b03d-4f6f-a95c-3ecb8a51e7c8",
   "metadata": {},
   "outputs": [],
   "source": [
    "tmobile_5g_coverage_warsaw = operators_5g_coverage_warsaw[operators_5g_coverage_warsaw['operator'] == 'T-Mobile']\n",
    "tmobile_5g_coverage_warsaw.to_file('../outputs/tmobile_5g_coverage_warsaw.geojson', driver='GeoJSON')"
   ]
  },
  {
   "cell_type": "code",
   "execution_count": 105,
   "id": "5b4ffbc0-36a7-4753-91b7-976e5dff57c9",
   "metadata": {},
   "outputs": [],
   "source": [
    "center = [52.2297, 21.0122]\n",
    "m = folium.Map(location=center, zoom_start=6)"
   ]
  },
  {
   "cell_type": "code",
   "execution_count": 107,
   "id": "3a868937-8e4e-45b1-9d69-a9861a6fa209",
   "metadata": {},
   "outputs": [
    {
     "data": {
      "text/plain": [
       "<folium.features.GeoJson at 0x1d26081e180>"
      ]
     },
     "execution_count": 107,
     "metadata": {},
     "output_type": "execute_result"
    }
   ],
   "source": [
    "folium.GeoJson(warsaw_tiles.geometry, name=\"Warsaw Boundary\").add_to(m)"
   ]
  },
  {
   "cell_type": "code",
   "execution_count": 109,
   "id": "013e962e-b4e0-46b1-ba60-f70a00a940b5",
   "metadata": {},
   "outputs": [],
   "source": [
    "files = {\n",
    "    'orange_5g_coverage_warsaw.geojson': 'orange',\n",
    "    'play_5g_coverage_warsaw.geojson': 'purple',\n",
    "    'tmobile_5g_coverage_warsaw.geojson': 'pink',\n",
    "    'plus_5g_coverage_warsaw.geojson': 'green'\n",
    "}"
   ]
  },
  {
   "cell_type": "code",
   "execution_count": 111,
   "id": "381cbeb0-9bb3-4189-82f3-884225c97729",
   "metadata": {},
   "outputs": [
    {
     "name": "stdout",
     "output_type": "stream",
     "text": [
      "Loading: orange_5g_coverage_warsaw.geojson\n",
      "Loading: play_5g_coverage_warsaw.geojson\n",
      "Loading: tmobile_5g_coverage_warsaw.geojson\n",
      "Loading: plus_5g_coverage_warsaw.geojson\n"
     ]
    }
   ],
   "source": [
    "for file, color in files.items():\n",
    "    print(f\"Loading: {file}\")\n",
    "    gdf = gpd.read_file(f'../outputs/{file}')\n",
    "\n",
    "    folium.GeoJson(\n",
    "        gdf.geometry,\n",
    "        name=file.split('_')[0].capitalize(),\n",
    "        style_function=lambda x, color=color: {\n",
    "            'color': color,\n",
    "            'weight': 1,\n",
    "            'fillOpacity': 0.2\n",
    "        }\n",
    "    ).add_to(m)"
   ]
  },
  {
   "cell_type": "code",
   "execution_count": 113,
   "id": "280f25c7-94b3-4308-ab18-f2133c337c55",
   "metadata": {},
   "outputs": [
    {
     "data": {
      "text/plain": [
       "<folium.map.LayerControl at 0x1d2ce886d20>"
      ]
     },
     "execution_count": 113,
     "metadata": {},
     "output_type": "execute_result"
    }
   ],
   "source": [
    "folium.LayerControl().add_to(m)"
   ]
  },
  {
   "cell_type": "code",
   "execution_count": 115,
   "id": "c66f4779-e589-472c-a742-7f65a2e0592f",
   "metadata": {},
   "outputs": [
    {
     "name": "stdout",
     "output_type": "stream",
     "text": [
      "Map saved successfully to ../outputs/warsaw_5g_coverage_map.html\n"
     ]
    }
   ],
   "source": [
    "output_path = '../outputs/warsaw_5g_coverage_map.html'\n",
    "m.save(output_path)\n",
    "\n",
    "print(f\"Map saved successfully to {output_path}\")"
   ]
  },
  {
   "cell_type": "code",
   "execution_count": null,
   "id": "82494ca7-f666-4c0e-a494-fbd1a22f5328",
   "metadata": {},
   "outputs": [],
   "source": [
    "##------------------------HEATMAP VISUALIZATION----------------------------------------##"
   ]
  },
  {
   "cell_type": "code",
   "execution_count": 117,
   "id": "ef7e2c8d-88ad-4a61-87ef-235f94f7fe92",
   "metadata": {},
   "outputs": [],
   "source": [
    "ookla_5g_warsaw = gpd.read_file('../outputs/warsaw_coverage.geojson')"
   ]
  },
  {
   "cell_type": "code",
   "execution_count": 121,
   "id": "a56a55c8-fe3e-486f-8ea1-395c73fd397c",
   "metadata": {},
   "outputs": [],
   "source": [
    "heat_data = [\n",
    "    (row.geometry.centroid.y, row.geometry.centroid.x, row['avg_d_kbps'])\n",
    "    for _, row in ookla_5g_warsaw.iterrows()\n",
    "]"
   ]
  },
  {
   "cell_type": "code",
   "execution_count": 125,
   "id": "e53db73b-10fa-461d-9033-ce671be81803",
   "metadata": {},
   "outputs": [
    {
     "name": "stdout",
     "output_type": "stream",
     "text": [
      "Map saved successfully to ../outputs/warsaw_5g_coverage_heatmap.html\n"
     ]
    }
   ],
   "source": [
    "center = [52.2297, 21.0122]\n",
    "m = folium.Map(location=center, zoom_start=9)\n",
    "\n",
    "HeatMap(heat_data, radius=8, max_zoom=15).add_to(m)\n",
    "\n",
    "output_path = '../outputs/warsaw_5g_coverage_heatmap.html'\n",
    "m.save(output_path)\n",
    "\n",
    "print(f\"Map saved successfully to {output_path}\")"
   ]
  },
  {
   "cell_type": "code",
   "execution_count": null,
   "id": "ad6ecd97-c626-4f81-ae67-585a0d63add4",
   "metadata": {},
   "outputs": [],
   "source": [
    "##------------------------ORANGE VS. OTHER COMPANIES COMPARISION VISUALIZATION----------------------------------------##"
   ]
  },
  {
   "cell_type": "code",
   "execution_count": 129,
   "id": "60be288e-5361-4a5f-85af-0e4317a0cb25",
   "metadata": {},
   "outputs": [],
   "source": [
    "orange_5g_coverage_warsaw = gpd.read_file('../outputs/orange_5g_coverage_warsaw.geojson')\n",
    "play_5g_coverage_warsaw = gpd.read_file('../outputs/play_5g_coverage_warsaw.geojson')\n",
    "plus_5g_coverage_warsaw = gpd.read_file('../outputs/plus_5g_coverage_warsaw.geojson')\n",
    "tmobile_5g_coverage_warsaw = gpd.read_file('../outputs/tmobile_5g_coverage_warsaw.geojson')"
   ]
  },
  {
   "cell_type": "code",
   "execution_count": 131,
   "id": "4d8a137e-456a-4b5b-85ff-bd14705c852f",
   "metadata": {},
   "outputs": [
    {
     "name": "stdout",
     "output_type": "stream",
     "text": [
      "Geometries simplified for faster rendering.\n"
     ]
    }
   ],
   "source": [
    "for gdf in [orange_5g_coverage_warsaw, play_5g_coverage_warsaw, plus_5g_coverage_warsaw, tmobile_5g_coverage_warsaw]:\n",
    "    gdf.geometry = gdf.geometry.simplify(tolerance=0.001, preserve_topology=True)\n",
    "\n",
    "print(\"Geometries simplified for faster rendering.\")"
   ]
  },
  {
   "cell_type": "code",
   "execution_count": 133,
   "id": "87ae87d4-0770-4bd8-a4d5-381e1274063a",
   "metadata": {},
   "outputs": [],
   "source": [
    "center = [52.2297, 21.0122]\n",
    "m = folium.Map(location=center, zoom_start=10)"
   ]
  },
  {
   "cell_type": "code",
   "execution_count": 135,
   "id": "4fd8e79c-bbeb-476b-8673-be7249e3ebb5",
   "metadata": {},
   "outputs": [],
   "source": [
    "def get_color(row):\n",
    "    orange_speed = row['avg_d_kbps']\n",
    "    competitors = {\n",
    "        'Play': play_5g_coverage_warsaw,\n",
    "        'Plus': plus_5g_coverage_warsaw,\n",
    "        'T-Mobile': tmobile_5g_coverage_warsaw\n",
    "    }\n",
    "    \n",
    "    max_speed = orange_speed\n",
    "    best_operator = 'Orange'\n",
    "    \n",
    "    for name, gdf in competitors.items():\n",
    "        competitor_speed = gdf.loc[gdf['cell'] == row['cell'], 'avg_d_kbps']\n",
    "        if not competitor_speed.empty and competitor_speed.values[0] > max_speed:\n",
    "            max_speed = competitor_speed.values[0]\n",
    "            best_operator = name\n",
    "    \n",
    "    if best_operator == 'Orange':\n",
    "        return 'green'\n",
    "    elif abs(max_speed - orange_speed) <= 5000: \n",
    "        return 'yellow'\n",
    "    else:\n",
    "        return 'red'"
   ]
  },
  {
   "cell_type": "code",
   "execution_count": 137,
   "id": "ff2f4623-d854-4f09-846c-fb0a70d19da1",
   "metadata": {},
   "outputs": [],
   "source": [
    "for idx, row in orange_5g_coverage_warsaw.iterrows():\n",
    "    folium.GeoJson(\n",
    "        row.geometry,\n",
    "        style_function=lambda x, row=row: {\n",
    "            'color': get_color(row),\n",
    "            'weight': 1,\n",
    "            'fillOpacity': 0.4\n",
    "        },\n",
    "        tooltip=f\"Operator: Orange | DL Speed: {row['avg_d_kbps']} kbps\"\n",
    "    ).add_to(m)"
   ]
  },
  {
   "cell_type": "code",
   "execution_count": 139,
   "id": "fddaf18d-a12a-4840-bfd8-b84d2ff34abc",
   "metadata": {},
   "outputs": [
    {
     "data": {
      "text/plain": [
       "<folium.map.LayerControl at 0x1d2b8666510>"
      ]
     },
     "execution_count": 139,
     "metadata": {},
     "output_type": "execute_result"
    }
   ],
   "source": [
    "folium.LayerControl().add_to(m)"
   ]
  },
  {
   "cell_type": "code",
   "execution_count": 141,
   "id": "c4d5fa47-32de-449f-8834-7e08d8a73a3a",
   "metadata": {},
   "outputs": [
    {
     "name": "stdout",
     "output_type": "stream",
     "text": [
      "Map saved to '../outputs/orange_others_performance_comparision_map.html'\n"
     ]
    }
   ],
   "source": [
    "m.save('../outputs/orange_others_performance_comparision_map.html')\n",
    "print(\"Map saved to '../outputs/orange_others_performance_comparision_map.html'\")"
   ]
  }
 ],
 "metadata": {
  "kernelspec": {
   "display_name": "Python [conda env:base] *",
   "language": "python",
   "name": "conda-base-py"
  },
  "language_info": {
   "codemirror_mode": {
    "name": "ipython",
    "version": 3
   },
   "file_extension": ".py",
   "mimetype": "text/x-python",
   "name": "python",
   "nbconvert_exporter": "python",
   "pygments_lexer": "ipython3",
   "version": "3.12.7"
  }
 },
 "nbformat": 4,
 "nbformat_minor": 5
}
